{
 "cells": [
  {
   "cell_type": "code",
   "execution_count": 3,
   "metadata": {},
   "outputs": [],
   "source": [
    "import numpy as np\n",
    "import matplotlib.pyplot as plt\n",
    "from ipywidgets import interactive,widgets, GridspecLayout\n",
    "%matplotlib inline"
   ]
  },
  {
   "cell_type": "code",
   "execution_count": 7,
   "metadata": {},
   "outputs": [
    {
     "data": {
      "application/vnd.jupyter.widget-view+json": {
       "model_id": "73cc6e559ef44242a1d5264e43c88625",
       "version_major": 2,
       "version_minor": 0
      },
      "text/plain": [
       "GridspecLayout(children=(ToggleButtons(layout=Layout(grid_area='widget001'), options=('lines', 'scatter'), sty…"
      ]
     },
     "metadata": {},
     "output_type": "display_data"
    }
   ],
   "source": [
    "grid = GridspecLayout(20, 32)\n",
    "style = {'description_width': 'initial'}\n",
    "plot_select = widgets.ToggleButtons(\n",
    "    options=['lines','scatter'], description='',\n",
    "    style = style)\n",
    "\n",
    "def plot_func(a, f, plot_type):\n",
    "    plt.figure(2)\n",
    "    x = np.linspace(0, 2*np.pi, num=1000)\n",
    "    y = a*np.sin(1/f*x)\n",
    "    if plot_type == 'lines':\n",
    "        \n",
    "        plt.plot(x,y)\n",
    "        \n",
    "    elif plot_type == 'scatter':\n",
    "        plt.scatter(x,y)\n",
    "        \n",
    "    plt.ylim(-1.1, 1.1)\n",
    "    plt.title('a sin(f)')\n",
    "    plt.show()\n",
    "\n",
    "a = widgets.FloatSlider(value = -1, min = -1, max = 0, step = 0.1)\n",
    "f = widgets.FloatSlider(value = 0.55,min = 0.1, max = 1.)\n",
    "\n",
    "\n",
    "\n",
    "#interactive_plot = interactive(plot_func, a=(-1,0,0.1), f=(0.1, 1))\n",
    "#output = interactive_plot.children[-1]\n",
    "#output.layout.height = '300px'\n",
    "#interactive_plot\n",
    "grid[0,8:31] = plot_select\n",
    "grid[1,8:31] = a\n",
    "grid[2,8:31] = f\n",
    "grid[3:16,8:31] = widgets.interactive_output(plot_func,{'a':a,'f':f, 'plot_type':plot_select})\n",
    "\n",
    "grid"
   ]
  },
  {
   "cell_type": "code",
   "execution_count": null,
   "metadata": {},
   "outputs": [],
   "source": []
  }
 ],
 "metadata": {
  "kernelspec": {
   "display_name": "Python 3",
   "language": "python",
   "name": "python3"
  },
  "language_info": {
   "codemirror_mode": {
    "name": "ipython",
    "version": 3
   },
   "file_extension": ".py",
   "mimetype": "text/x-python",
   "name": "python",
   "nbconvert_exporter": "python",
   "pygments_lexer": "ipython3",
   "version": "3.7.9"
  }
 },
 "nbformat": 4,
 "nbformat_minor": 4
}
