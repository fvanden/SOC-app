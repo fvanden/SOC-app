{
 "cells": [
  {
   "cell_type": "code",
   "execution_count": 3,
   "metadata": {},
   "outputs": [],
   "source": [
    "import numpy as np\n",
    "import matplotlib.pyplot as plt\n",
    "from ipywidgets import interactive,widgets, GridspecLayout\n",
    "%matplotlib inline"
   ]
  },
  {
   "cell_type": "code",
   "execution_count": 5,
   "metadata": {},
   "outputs": [
    {
     "data": {
      "application/vnd.jupyter.widget-view+json": {
       "model_id": "af3b90a0d45346a68f8701bb1566cedd",
       "version_major": 2,
       "version_minor": 0
      },
      "text/plain": [
       "GridspecLayout(children=(FloatSlider(value=-1.0, layout=Layout(grid_area='widget001'), max=0.0, min=-1.0), Flo…"
      ]
     },
     "metadata": {},
     "output_type": "display_data"
    }
   ],
   "source": [
    "grid = GridspecLayout(20, 32)\n",
    "\n",
    "def plot_func(a, f):\n",
    "    plt.figure(2)\n",
    "    x = np.linspace(0, 2*np.pi, num=1000)\n",
    "    y = a*np.sin(1/f*x)\n",
    "    plt.plot(x,y)\n",
    "    plt.ylim(-1.1, 1.1)\n",
    "    plt.title('a sin(f)')\n",
    "    plt.show()\n",
    "\n",
    "a = widgets.FloatSlider(value = -1, min = -1, max = 0, step = 0.1)\n",
    "f = widgets.FloatSlider(value = 0.55,min = 0.1, max = 1.)\n",
    "\n",
    "\n",
    "\n",
    "#interactive_plot = interactive(plot_func, a=(-1,0,0.1), f=(0.1, 1))\n",
    "#output = interactive_plot.children[-1]\n",
    "#output.layout.height = '300px'\n",
    "#interactive_plot\n",
    "grid[0,8:31] = a\n",
    "grid[1,8:31] = f\n",
    "grid[3:16,8:31] = widgets.interactive_output(plot_func,{'a':a,'f':f})\n",
    "\n",
    "grid"
   ]
  },
  {
   "cell_type": "code",
   "execution_count": null,
   "metadata": {},
   "outputs": [],
   "source": []
  }
 ],
 "metadata": {
  "kernelspec": {
   "display_name": "Python 3",
   "language": "python",
   "name": "python3"
  },
  "language_info": {
   "codemirror_mode": {
    "name": "ipython",
    "version": 3
   },
   "file_extension": ".py",
   "mimetype": "text/x-python",
   "name": "python",
   "nbconvert_exporter": "python",
   "pygments_lexer": "ipython3",
   "version": "3.7.9"
  }
 },
 "nbformat": 4,
 "nbformat_minor": 4
}
